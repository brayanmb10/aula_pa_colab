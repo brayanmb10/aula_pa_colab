{
  "nbformat": 4,
  "nbformat_minor": 0,
  "metadata": {
    "colab": {
      "provenance": [],
      "authorship_tag": "ABX9TyMoDxc74dnPeiCpLP41BAli",
      "include_colab_link": true
    },
    "kernelspec": {
      "name": "python3",
      "display_name": "Python 3"
    },
    "language_info": {
      "name": "python"
    }
  },
  "cells": [
    {
      "cell_type": "markdown",
      "metadata": {
        "id": "view-in-github",
        "colab_type": "text"
      },
      "source": [
        "<a href=\"https://colab.research.google.com/github/brayanmb10/aula_pa_colab/blob/main/farmacia.ipynb\" target=\"_parent\"><img src=\"https://colab.research.google.com/assets/colab-badge.svg\" alt=\"Open In Colab\"/></a>"
      ]
    },
    {
      "cell_type": "code",
      "execution_count": 20,
      "metadata": {
        "colab": {
          "base_uri": "https://localhost:8080/"
        },
        "id": "iIGQ5N4YUiOg",
        "outputId": "292183ba-b6b7-420f-8f82-af1db7a60cf6"
      },
      "outputs": [
        {
          "output_type": "stream",
          "name": "stdout",
          "text": [
            "Informe a idade do cliente: 80\n",
            "Informe o valor do medicamento (em R$): 50\n",
            "\n",
            "Valor do desconto: R$ 12.50\n",
            "Valor final a pagar: R$ 37.50\n"
          ]
        }
      ],
      "source": [
        "##entrada\n",
        "idade = int(input(\"Informe a idade do cliente: \"))\n",
        "valor_original = float(input(\"Informe o valor do medicamento (em R$): \"))\n",
        "\n",
        "##processamento\n",
        "if idade < 12:\n",
        "    desconto_percentual = 15\n",
        "elif 60 <= idade <= 75:\n",
        "    desconto_percentual = 20\n",
        "elif idade > 75:\n",
        "    desconto_percentual = 25\n",
        "else:\n",
        "    desconto_percentual = 0\n",
        "\n",
        "valor_desconto = (desconto_percentual / 100) * valor_original\n",
        "valor_final = valor_original - valor_desconto\n",
        "\n",
        "##saida\n",
        "print(f\"\\nValor do desconto: R$ {valor_desconto:.2f}\")\n",
        "print(f\"Valor final a pagar: R$ {valor_final:.2f}\")\n",
        "\n"
      ]
    }
  ]
}