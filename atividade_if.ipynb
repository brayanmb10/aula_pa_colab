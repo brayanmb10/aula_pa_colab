{
  "nbformat": 4,
  "nbformat_minor": 0,
  "metadata": {
    "colab": {
      "provenance": [],
      "authorship_tag": "ABX9TyMfTapXeUESkp+/1ueyjCnJ",
      "include_colab_link": true
    },
    "kernelspec": {
      "name": "python3",
      "display_name": "Python 3"
    },
    "language_info": {
      "name": "python"
    }
  },
  "cells": [
    {
      "cell_type": "markdown",
      "metadata": {
        "id": "view-in-github",
        "colab_type": "text"
      },
      "source": [
        "<a href=\"https://colab.research.google.com/github/brayanmb10/aula_pa_colab/blob/main/atividade_if.ipynb\" target=\"_parent\"><img src=\"https://colab.research.google.com/assets/colab-badge.svg\" alt=\"Open In Colab\"/></a>"
      ]
    },
    {
      "cell_type": "markdown",
      "source": [
        "calcular se é um ano bissexto"
      ],
      "metadata": {
        "id": "2UFBDCN44H77"
      }
    },
    {
      "cell_type": "code",
      "execution_count": 5,
      "metadata": {
        "colab": {
          "base_uri": "https://localhost:8080/"
        },
        "id": "5A1JWQ7v2NRK",
        "outputId": "ce85da7a-7fc0-4fa0-bcc0-2f63cdfbfa7f"
      },
      "outputs": [
        {
          "output_type": "stream",
          "name": "stdout",
          "text": [
            "digite o ano: 2018\n",
            "o ano não é bissexto\n"
          ]
        }
      ],
      "source": [
        "##entrada\n",
        "ano = int(input(\"digite o ano: \"))\n",
        "##processamento\n",
        "if (ano % 4 == 0 and ano % 100 != 0) or (ano % 400 == 0):\n",
        "    print(\"o ano é bissexto\")\n",
        "else:\n",
        "    print(\"o ano não é bissexto\")\n",
        ""
      ]
    },
    {
      "cell_type": "markdown",
      "source": [
        "classificar idade"
      ],
      "metadata": {
        "id": "CtVRgNST5jRd"
      }
    },
    {
      "cell_type": "code",
      "source": [
        "\n",
        "##entrada\n",
        "idade = int(input(\"digite a idade: \"))\n",
        "##processamento\n",
        "if idade >=0 and idade <= 12:\n",
        "    print(\"criança\")\n",
        "elif idade >= 13 and idade <= 17:\n",
        "    print(\"adolescente\")\n",
        "elif idade >= 18 and idade <= 59:\n",
        "    print(\"adulto\")\n",
        "if idade > 0:\n",
        "    print(\"idade invalida\")"
      ],
      "metadata": {
        "colab": {
          "base_uri": "https://localhost:8080/"
        },
        "id": "-ccAaHY_6nLF",
        "outputId": "b27746df-9a27-46d3-bc8f-392b2b241eb6"
      },
      "execution_count": 25,
      "outputs": [
        {
          "output_type": "stream",
          "name": "stdout",
          "text": [
            "digite a idade: 5\n",
            "criança\n",
            "idade invalida\n"
          ]
        }
      ]
    },
    {
      "cell_type": "markdown",
      "source": [
        "número no intervalo"
      ],
      "metadata": {
        "id": "o010YgTL7ru-"
      }
    },
    {
      "cell_type": "code",
      "source": [
        "##entrada\n",
        "numero = int(input(\"digite um número: \"))\n",
        "##processamento\n",
        "if numero >= 10 and numero <= 50:\n",
        "    print(\"o número está no intervalo\")\n",
        "else:\n",
        "    print(\"o número não está no intervalo\")"
      ],
      "metadata": {
        "colab": {
          "base_uri": "https://localhost:8080/"
        },
        "id": "7_QvBcfd71rO",
        "outputId": "17183dcf-a11c-42f3-8675-d4da62aebdc0"
      },
      "execution_count": 19,
      "outputs": [
        {
          "output_type": "stream",
          "name": "stdout",
          "text": [
            "digite um número: 30\n",
            "o número está no intervalo\n"
          ]
        }
      ]
    },
    {
      "cell_type": "markdown",
      "source": [
        "impar ou par"
      ],
      "metadata": {
        "id": "S2enpC2yBI7X"
      }
    },
    {
      "cell_type": "code",
      "source": [
        "##entrada\n",
        "numero = int(input(\"Digite um número: \"))\n",
        "\n",
        "##processamento\n",
        "if numero % 2 == 0:\n",
        "    print(\"O número é par\")\n",
        "else:\n",
        "    print(\"O número é ímpar\")\n"
      ],
      "metadata": {
        "colab": {
          "base_uri": "https://localhost:8080/"
        },
        "id": "CP-Z9oP8BYU2",
        "outputId": "3169442c-973e-4ef6-e1f8-0948f07aa6b3"
      },
      "execution_count": 26,
      "outputs": [
        {
          "output_type": "stream",
          "name": "stdout",
          "text": [
            "Digite um número: 2\n",
            "O número é par\n"
          ]
        }
      ]
    },
    {
      "cell_type": "markdown",
      "source": [
        "triângulo"
      ],
      "metadata": {
        "id": "xnQMML2wBnmS"
      }
    },
    {
      "cell_type": "code",
      "source": [
        "##entrada\n",
        "lado1 = float(input(\"Digite o valor do primeiro lado: \"))\n",
        "lado2 = float(input(\"Digite o valor do segundo lado: \"))\n",
        "lado3 = float(input(\"Digite o valor do terceiro lado: \"))\n",
        "\n",
        "##processamento\n",
        "if lado1 <= 0 or lado2 <= 0 or lado3 <= 0:\n",
        "    print(\"Os lados devem ser maiores que zero.\")\n",
        "elif lado1 == lado2 == lado3:\n",
        "    print(\"O triângulo é equilátero\")\n",
        "elif lado1 == lado2 or lado1 == lado3 or lado2 == lado3:\n",
        "        print(\"O triângulo é isósceles\")\n",
        "else:\n",
        "        print(\"O triângulo é escaleno\")"
      ],
      "metadata": {
        "colab": {
          "base_uri": "https://localhost:8080/"
        },
        "id": "ox5T_BKfCJsq",
        "outputId": "468b5fa8-f574-4de0-ba3d-d59f143be5fc"
      },
      "execution_count": 59,
      "outputs": [
        {
          "output_type": "stream",
          "name": "stdout",
          "text": [
            "Digite o valor do primeiro lado: 0\n",
            "Digite o valor do segundo lado: 0\n",
            "Digite o valor do terceiro lado: 0\n",
            "Os lados devem ser maiores que zero.\n"
          ]
        }
      ]
    },
    {
      "cell_type": "markdown",
      "source": [
        "tabela imc"
      ],
      "metadata": {
        "id": "ltfMVKyHCuSl"
      }
    },
    {
      "cell_type": "code",
      "source": [
        "##entrada\n",
        "peso = float(input(\"Digite seu peso (em kg): \"))\n",
        "altura = input(\"Digite sua altura (em metros): \") # Get input as string\n",
        "altura = altura.replace(\",\", \".\")  # Replace comma with period\n",
        "altura = float(altura)  # Convert to float\n",
        "\n",
        "imc = peso / (altura ** 2)\n",
        "\n",
        "##processamento\n",
        "print(f\"Seu IMC é: {imc:.2f}\")\n",
        "\n",
        "\n",
        "if imc < 18.5:\n",
        "  print(\"Abaixo do peso\")\n",
        "elif 18.5 <= imc <= 24.9:\n",
        "  print(\"Peso normal\")\n",
        "elif 25 <= imc <= 29.9:\n",
        "  print(\"Sobrepeso\")\n",
        "elif 30 <= imc <= 34.9:\n",
        "  print(\"Obesidade grau 1\")\n",
        "elif 35 <= imc <= 39.9:\n",
        "  print(\"Obesidade grau 2\")\n",
        "else:\n",
        "  print(\"Obesidade grau 3\")\n"
      ],
      "metadata": {
        "colab": {
          "base_uri": "https://localhost:8080/"
        },
        "id": "2nM2SFHTDDi7",
        "outputId": "5c2022cd-fb53-40f8-c0bd-973f7f497da3"
      },
      "execution_count": 63,
      "outputs": [
        {
          "output_type": "stream",
          "name": "stdout",
          "text": [
            "Digite seu peso (em kg): 55\n",
            "Digite sua altura (em metros): 2\n",
            "Seu IMC é: 13.75\n",
            "Abaixo do peso\n"
          ]
        }
      ]
    },
    {
      "cell_type": "markdown",
      "source": [
        "altura e idade"
      ],
      "metadata": {
        "id": "pyMV87O9EWC1"
      }
    },
    {
      "cell_type": "code",
      "source": [
        "##entrada\n",
        "altura = float(input(\"Digite sua altura (em metros): \"))\n",
        "idade = int(input(\"Digite sua idade (em anos): \"))\n",
        "##processamento\n",
        "if altura >= 1.75 and idade >= 18:\n",
        "  print(\"Você pode competir.\")\n",
        "else:\n",
        "  print(\"Você não pode competir.\")\n"
      ],
      "metadata": {
        "colab": {
          "base_uri": "https://localhost:8080/"
        },
        "id": "HDMh_DKDEc7u",
        "outputId": "1b76073a-46b7-4254-e237-02ddcda66a1e"
      },
      "execution_count": 45,
      "outputs": [
        {
          "output_type": "stream",
          "name": "stdout",
          "text": [
            "Digite sua altura (em metros): 1.76\n",
            "Digite sua idade (em anos): 17\n",
            "Você não pode competir.\n"
          ]
        }
      ]
    },
    {
      "cell_type": "markdown",
      "source": [
        "simulador de empréstimo báncario"
      ],
      "metadata": {
        "id": "hjUQ5tY4FPEm"
      }
    },
    {
      "cell_type": "code",
      "source": [
        "##entrada\n",
        "valor_emprestimo = float(input(\"Digite o valor do empréstimo: \"))\n",
        "salario = float(input(\"Digite o salário do solicitante: \"))\n",
        "numero_parcelas = int(input(\"Digite o número de parcelas: \"))\n",
        "##processamento\n",
        "(valor_emprestimo/numero_parcelas)\n",
        "if (valor_emprestimo/numero_parcelas) > (salario * 30.0 / 100):\n",
        "  print(\"Empréstimo não aprovado.\")\n",
        "else:\n",
        "  print(\"Empréstimo aprovado.\")"
      ],
      "metadata": {
        "colab": {
          "base_uri": "https://localhost:8080/"
        },
        "id": "1LxvVT4MFVxX",
        "outputId": "afdd2806-ebbe-44e0-ea9e-0467f4815727"
      },
      "execution_count": 56,
      "outputs": [
        {
          "output_type": "stream",
          "name": "stdout",
          "text": [
            "Digite o valor do empréstimo: 5000\n",
            "Digite o salário do solicitante: 1000\n",
            "Digite o número de parcelas: 1\n",
            "Empréstimo não aprovado.\n"
          ]
        }
      ]
    }
  ]
}