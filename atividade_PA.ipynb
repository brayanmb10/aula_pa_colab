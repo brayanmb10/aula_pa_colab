{
  "nbformat": 4,
  "nbformat_minor": 0,
  "metadata": {
    "colab": {
      "provenance": [],
      "authorship_tag": "ABX9TyPB5fwQS3w7rlcMgDODZtM7",
      "include_colab_link": true
    },
    "kernelspec": {
      "name": "python3",
      "display_name": "Python 3"
    },
    "language_info": {
      "name": "python"
    }
  },
  "cells": [
    {
      "cell_type": "markdown",
      "metadata": {
        "id": "view-in-github",
        "colab_type": "text"
      },
      "source": [
        "<a href=\"https://colab.research.google.com/github/brayanmb10/aula_pa_colab/blob/main/atividade_PA.ipynb\" target=\"_parent\"><img src=\"https://colab.research.google.com/assets/colab-badge.svg\" alt=\"Open In Colab\"/></a>"
      ]
    },
    {
      "cell_type": "markdown",
      "source": [
        "exercicio 1"
      ],
      "metadata": {
        "id": "zah6L1AoutiM"
      }
    },
    {
      "cell_type": "code",
      "source": [
        "##entrada\n",
        "idade = int(input(\"digite uma idade: \"))\n",
        "idade2= int(input(\"digite outra idade: \"))\n",
        "##processamento\n",
        "resultado=idade > idade2\n",
        "\n",
        "##saida\n",
        "print(resultado)\n",
        "\n"
      ],
      "metadata": {
        "colab": {
          "base_uri": "https://localhost:8080/"
        },
        "id": "YZBVjdxQraDv",
        "outputId": "3f9b06dc-a3fe-4a42-8028-1c467d4f5976"
      },
      "execution_count": null,
      "outputs": [
        {
          "output_type": "stream",
          "name": "stdout",
          "text": [
            "digite uma idade: 20\n",
            "digite outra idade: 80\n",
            "False\n"
          ]
        }
      ]
    },
    {
      "cell_type": "markdown",
      "source": [
        "exercicio 2"
      ],
      "metadata": {
        "id": "vWN79z-bvC8X"
      }
    },
    {
      "cell_type": "code",
      "source": [
        "##entrada\n",
        "idade = int(input(\"Digite sua idade: \"))\n",
        "senha = input(\"Digite sua senha: \")\n",
        "##processamento\n",
        "mensagens = [\"Acesso negado!\", \"Acesso permitido!\"]\n",
        "indice_mensagem = (idade > 18 and senha == \"1234\")\n",
        "##saida\n",
        "print(mensagens[indice_mensagem])"
      ],
      "metadata": {
        "id": "jgDFDk9HvHch",
        "colab": {
          "base_uri": "https://localhost:8080/"
        },
        "outputId": "d2736659-e44f-4e3f-bffd-e591fb5b60e8"
      },
      "execution_count": 97,
      "outputs": [
        {
          "output_type": "stream",
          "name": "stdout",
          "text": [
            "Digite sua idade: 14\n",
            "Digite sua senha: 1234\n",
            "Acesso negado!\n"
          ]
        }
      ]
    },
    {
      "cell_type": "markdown",
      "source": [
        "exercicio 3"
      ],
      "metadata": {
        "id": "SeWonPscw_6t"
      }
    },
    {
      "cell_type": "code",
      "source": [
        "##entrada\n",
        "numero = int(input(\"Digite um número: \"))\n",
        "##processamento\n",
        "resultado = (numero < 10) or (numero > 50)\n",
        "##saida\n",
        "print(\"O número não está entre 10 e 50:\", resultado)"
      ],
      "metadata": {
        "colab": {
          "base_uri": "https://localhost:8080/"
        },
        "id": "lXtSP_oKxDEd",
        "outputId": "72448eb1-995e-4909-aec6-dc1fbf559399"
      },
      "execution_count": null,
      "outputs": [
        {
          "output_type": "stream",
          "name": "stdout",
          "text": [
            "Digite um número: 20\n",
            "O número não está entre 10 e 50: False\n"
          ]
        }
      ]
    },
    {
      "cell_type": "markdown",
      "source": [
        "exercicio 4"
      ],
      "metadata": {
        "id": "EIn5JHmqxZQT"
      }
    },
    {
      "cell_type": "code",
      "source": [
        "##entrada\n",
        "saldo = float(input(\"Digite o saldo do cliente: \"))\n",
        "valor_da_compra = float(input(\"Digite o valor da compra: \"))\n",
        "tem_cupom = input(\"O cliente possui cupom de desconto ativo? (sim/nao): \")\n",
        "\n",
        "##processamento\n",
        "pode_comprar = (saldo >= valor_da_compra) or (tem_cupom.lower() == \"sim\")\n",
        "\n",
        "##saida\n",
        "print([\"Compra não autorizada. Saldo insuficiente e/ou sem cupom de desconto.\", \"Compra autorizada!\"][pode_comprar])\n"
      ],
      "metadata": {
        "id": "xBatBs4pxbSg",
        "colab": {
          "base_uri": "https://localhost:8080/"
        },
        "outputId": "da6b9642-50b2-473f-a0da-f6960412a1da"
      },
      "execution_count": null,
      "outputs": [
        {
          "output_type": "stream",
          "name": "stdout",
          "text": [
            "Digite o saldo do cliente: 1\n",
            "Digite o valor da compra: 10000\n",
            "O cliente possui cupom de desconto ativo? (sim/nao): sim\n",
            "Compra autorizada!\n"
          ]
        }
      ]
    },
    {
      "cell_type": "markdown",
      "source": [
        "exercicio 5"
      ],
      "metadata": {
        "id": "W4bON4TNxdEQ"
      }
    },
    {
      "cell_type": "code",
      "source": [
        "##entrada\n",
        "numero = int(input(\"Digite um número: \"))"
      ],
      "metadata": {
        "id": "-lmFK9TyxfoS",
        "colab": {
          "base_uri": "https://localhost:8080/"
        },
        "outputId": "fd7aa581-fea4-4460-90d3-22abf4edc945"
      },
      "execution_count": null,
      "outputs": [
        {
          "name": "stdout",
          "output_type": "stream",
          "text": [
            "Digite um número: 3\n"
          ]
        }
      ]
    },
    {
      "cell_type": "code",
      "source": [
        "par = (numero % 2 == 0)"
      ],
      "metadata": {
        "id": "Flsn9-7E-aQJ"
      },
      "execution_count": null,
      "outputs": []
    },
    {
      "cell_type": "code",
      "source": [
        "impar = (numero % 2 != 0)"
      ],
      "metadata": {
        "id": "BloH4-m6-eyw"
      },
      "execution_count": null,
      "outputs": []
    },
    {
      "cell_type": "code",
      "source": [
        "##processamento"
      ],
      "metadata": {
        "id": "ZuA0i7O4-hvZ"
      },
      "execution_count": null,
      "outputs": []
    },
    {
      "cell_type": "code",
      "source": [
        "compare_results = (par == True) and (impar == False)"
      ],
      "metadata": {
        "id": "dFr-49uf-mIv"
      },
      "execution_count": null,
      "outputs": []
    },
    {
      "cell_type": "code",
      "source": [
        "##saida"
      ],
      "metadata": {
        "id": "jym1pN1Y-3J2"
      },
      "execution_count": null,
      "outputs": []
    },
    {
      "cell_type": "code",
      "source": [
        "par"
      ],
      "metadata": {
        "colab": {
          "base_uri": "https://localhost:8080/"
        },
        "id": "_q0nJVZ0-6X7",
        "outputId": "dbfdd9e6-c273-4156-f1b0-5c7363d44637"
      },
      "execution_count": null,
      "outputs": [
        {
          "output_type": "execute_result",
          "data": {
            "text/plain": [
              "False"
            ]
          },
          "metadata": {},
          "execution_count": 71
        }
      ]
    },
    {
      "cell_type": "markdown",
      "source": [
        "exercicio 6"
      ],
      "metadata": {
        "id": "IICFhtdMxjwR"
      }
    },
    {
      "cell_type": "code",
      "source": [
        "##entrada\n",
        "idade = int(input(\"Digite sua idade: \"))\n",
        "##processamento\n",
        "esta=(idade >= 13 and idade <= 17)\n",
        "##saida\n",
        "print(esta)\n",
        "\n"
      ],
      "metadata": {
        "id": "7lGeaxxhxoOF",
        "colab": {
          "base_uri": "https://localhost:8080/"
        },
        "outputId": "130038be-d59c-483a-d7ad-965d57880a4c"
      },
      "execution_count": null,
      "outputs": [
        {
          "output_type": "stream",
          "name": "stdout",
          "text": [
            "Digite sua idade: 14\n",
            "True\n"
          ]
        }
      ]
    },
    {
      "cell_type": "markdown",
      "source": [
        "exercicio 7"
      ],
      "metadata": {
        "id": "ssZ6ujq8_KI5"
      }
    },
    {
      "cell_type": "code",
      "source": [
        "##entrada\n",
        "\n",
        "senha = input(\"Digite sua senha: \")\n",
        "admin = True\n",
        "##processamento\n",
        "pode_acessar = (senha == 12345) or (admin == True)\n",
        "##saida\n",
        "print(pode_acessar)\n",
        "\n",
        "\n"
      ],
      "metadata": {
        "id": "Tun_zOFQDOhQ",
        "colab": {
          "base_uri": "https://localhost:8080/"
        },
        "outputId": "21e3d73b-9653-4302-fcd0-710d8d868753"
      },
      "execution_count": 120,
      "outputs": [
        {
          "output_type": "stream",
          "name": "stdout",
          "text": [
            "Digite sua senha: 122333333333333\n",
            "True\n"
          ]
        }
      ]
    },
    {
      "cell_type": "markdown",
      "source": [
        "exercicio 8"
      ],
      "metadata": {
        "id": "Lzo_jdrw_P9z"
      }
    },
    {
      "cell_type": "code",
      "source": [
        "##entrada\n",
        "nota = input(\"digite uma nota: \")\n",
        "presente = nao"
      ],
      "metadata": {
        "id": "oLtm95pH_RpB",
        "colab": {
          "base_uri": "https://localhost:8080/"
        },
        "outputId": "14437b06-abd8-4618-b25e-265ce81c4644"
      },
      "execution_count": 121,
      "outputs": [
        {
          "name": "stdout",
          "output_type": "stream",
          "text": [
            "digite uma nota: 7\n"
          ]
        }
      ]
    },
    {
      "cell_type": "code",
      "source": [],
      "metadata": {
        "id": "REgPuIbkHDAT"
      },
      "execution_count": null,
      "outputs": []
    },
    {
      "cell_type": "markdown",
      "source": [
        "exercicio 9"
      ],
      "metadata": {
        "id": "tgHMUR1B_Ufs"
      }
    },
    {
      "cell_type": "code",
      "source": [
        "##entrada"
      ],
      "metadata": {
        "id": "PNyrXH7l_WPH"
      },
      "execution_count": null,
      "outputs": []
    },
    {
      "cell_type": "markdown",
      "source": [
        "exercicio 10"
      ],
      "metadata": {
        "id": "WAN0Y2Vt_b8_"
      }
    },
    {
      "cell_type": "code",
      "source": [
        "##entrada"
      ],
      "metadata": {
        "id": "JQZQRdch_eFo"
      },
      "execution_count": null,
      "outputs": []
    }
  ]
}